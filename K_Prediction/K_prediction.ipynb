{
 "cells": [
  {
   "cell_type": "markdown",
   "id": "50df3adc",
   "metadata": {},
   "source": [
    "### IF YOU WANT TO USE THIS NOTEBOOK , MAKE SURE TO GET THE NOTEBOOK OUT OF THIS FOLDER TO MAIN FOLDER"
   ]
  },
  {
   "cell_type": "code",
   "execution_count": 2,
   "id": "cd6ce7f6",
   "metadata": {},
   "outputs": [],
   "source": [
    "import pandas as pd"
   ]
  },
  {
   "cell_type": "code",
   "execution_count": 3,
   "id": "2777c925",
   "metadata": {},
   "outputs": [],
   "source": [
    "import pickle"
   ]
  },
  {
   "cell_type": "code",
   "execution_count": 4,
   "id": "02983405",
   "metadata": {},
   "outputs": [],
   "source": [
    "with open(\"P_Prediction/P_pred_scaler.pkl\",\"rb\") as f:\n",
    "    Scaler = pickle.load(f)\n",
    "\n",
    "with open(\"P_Prediction/P_pred_model.pkl\",\"rb\") as f:\n",
    "    Model = pickle.load(f)"
   ]
  },
  {
   "cell_type": "code",
   "execution_count": 5,
   "id": "6ec1b4a2",
   "metadata": {},
   "outputs": [],
   "source": [
    "df = pd.read_csv(\"Crop_recommendation.csv\")"
   ]
  },
  {
   "cell_type": "code",
   "execution_count": 6,
   "id": "96358929",
   "metadata": {},
   "outputs": [],
   "source": [
    "df = df[['N','K','temperature','humidity','ph','rainfall']]"
   ]
  },
  {
   "cell_type": "code",
   "execution_count": 7,
   "id": "8804920e",
   "metadata": {},
   "outputs": [],
   "source": [
    "needed = df[[\"N\",\"temperature\",'humidity','ph','rainfall']]"
   ]
  },
  {
   "cell_type": "code",
   "execution_count": 8,
   "id": "4688465e",
   "metadata": {},
   "outputs": [],
   "source": [
    "df['P'] = Model.predict(Scaler.transform(needed))"
   ]
  },
  {
   "cell_type": "code",
   "execution_count": 9,
   "id": "5e0b46a5",
   "metadata": {},
   "outputs": [
    {
     "data": {
      "text/html": [
       "<div>\n",
       "<style scoped>\n",
       "    .dataframe tbody tr th:only-of-type {\n",
       "        vertical-align: middle;\n",
       "    }\n",
       "\n",
       "    .dataframe tbody tr th {\n",
       "        vertical-align: top;\n",
       "    }\n",
       "\n",
       "    .dataframe thead th {\n",
       "        text-align: right;\n",
       "    }\n",
       "</style>\n",
       "<table border=\"1\" class=\"dataframe\">\n",
       "  <thead>\n",
       "    <tr style=\"text-align: right;\">\n",
       "      <th></th>\n",
       "      <th>N</th>\n",
       "      <th>K</th>\n",
       "      <th>temperature</th>\n",
       "      <th>humidity</th>\n",
       "      <th>ph</th>\n",
       "      <th>rainfall</th>\n",
       "      <th>P</th>\n",
       "    </tr>\n",
       "  </thead>\n",
       "  <tbody>\n",
       "    <tr>\n",
       "      <th>0</th>\n",
       "      <td>90</td>\n",
       "      <td>43</td>\n",
       "      <td>20.879744</td>\n",
       "      <td>82.002744</td>\n",
       "      <td>6.502985</td>\n",
       "      <td>202.935536</td>\n",
       "      <td>44.678024</td>\n",
       "    </tr>\n",
       "    <tr>\n",
       "      <th>1</th>\n",
       "      <td>85</td>\n",
       "      <td>41</td>\n",
       "      <td>21.770462</td>\n",
       "      <td>80.319644</td>\n",
       "      <td>7.038096</td>\n",
       "      <td>226.655537</td>\n",
       "      <td>45.195278</td>\n",
       "    </tr>\n",
       "    <tr>\n",
       "      <th>2</th>\n",
       "      <td>60</td>\n",
       "      <td>44</td>\n",
       "      <td>23.004459</td>\n",
       "      <td>82.320763</td>\n",
       "      <td>7.840207</td>\n",
       "      <td>263.964248</td>\n",
       "      <td>50.448369</td>\n",
       "    </tr>\n",
       "    <tr>\n",
       "      <th>3</th>\n",
       "      <td>74</td>\n",
       "      <td>40</td>\n",
       "      <td>26.491096</td>\n",
       "      <td>80.158363</td>\n",
       "      <td>6.980401</td>\n",
       "      <td>242.864034</td>\n",
       "      <td>46.705578</td>\n",
       "    </tr>\n",
       "    <tr>\n",
       "      <th>4</th>\n",
       "      <td>78</td>\n",
       "      <td>42</td>\n",
       "      <td>20.130175</td>\n",
       "      <td>81.604873</td>\n",
       "      <td>7.628473</td>\n",
       "      <td>262.717340</td>\n",
       "      <td>44.445102</td>\n",
       "    </tr>\n",
       "    <tr>\n",
       "      <th>...</th>\n",
       "      <td>...</td>\n",
       "      <td>...</td>\n",
       "      <td>...</td>\n",
       "      <td>...</td>\n",
       "      <td>...</td>\n",
       "      <td>...</td>\n",
       "      <td>...</td>\n",
       "    </tr>\n",
       "    <tr>\n",
       "      <th>2195</th>\n",
       "      <td>107</td>\n",
       "      <td>32</td>\n",
       "      <td>26.774637</td>\n",
       "      <td>66.413269</td>\n",
       "      <td>6.780064</td>\n",
       "      <td>177.774507</td>\n",
       "      <td>30.185657</td>\n",
       "    </tr>\n",
       "    <tr>\n",
       "      <th>2196</th>\n",
       "      <td>99</td>\n",
       "      <td>27</td>\n",
       "      <td>27.417112</td>\n",
       "      <td>56.636362</td>\n",
       "      <td>6.086922</td>\n",
       "      <td>127.924610</td>\n",
       "      <td>27.305123</td>\n",
       "    </tr>\n",
       "    <tr>\n",
       "      <th>2197</th>\n",
       "      <td>118</td>\n",
       "      <td>30</td>\n",
       "      <td>24.131797</td>\n",
       "      <td>67.225123</td>\n",
       "      <td>6.362608</td>\n",
       "      <td>173.322839</td>\n",
       "      <td>31.166541</td>\n",
       "    </tr>\n",
       "    <tr>\n",
       "      <th>2198</th>\n",
       "      <td>117</td>\n",
       "      <td>34</td>\n",
       "      <td>26.272418</td>\n",
       "      <td>52.127394</td>\n",
       "      <td>6.758793</td>\n",
       "      <td>127.175293</td>\n",
       "      <td>29.923043</td>\n",
       "    </tr>\n",
       "    <tr>\n",
       "      <th>2199</th>\n",
       "      <td>104</td>\n",
       "      <td>30</td>\n",
       "      <td>23.603016</td>\n",
       "      <td>60.396475</td>\n",
       "      <td>6.779833</td>\n",
       "      <td>140.937041</td>\n",
       "      <td>26.280453</td>\n",
       "    </tr>\n",
       "  </tbody>\n",
       "</table>\n",
       "<p>2200 rows × 7 columns</p>\n",
       "</div>"
      ],
      "text/plain": [
       "        N   K  temperature   humidity        ph    rainfall          P\n",
       "0      90  43    20.879744  82.002744  6.502985  202.935536  44.678024\n",
       "1      85  41    21.770462  80.319644  7.038096  226.655537  45.195278\n",
       "2      60  44    23.004459  82.320763  7.840207  263.964248  50.448369\n",
       "3      74  40    26.491096  80.158363  6.980401  242.864034  46.705578\n",
       "4      78  42    20.130175  81.604873  7.628473  262.717340  44.445102\n",
       "...   ...  ..          ...        ...       ...         ...        ...\n",
       "2195  107  32    26.774637  66.413269  6.780064  177.774507  30.185657\n",
       "2196   99  27    27.417112  56.636362  6.086922  127.924610  27.305123\n",
       "2197  118  30    24.131797  67.225123  6.362608  173.322839  31.166541\n",
       "2198  117  34    26.272418  52.127394  6.758793  127.175293  29.923043\n",
       "2199  104  30    23.603016  60.396475  6.779833  140.937041  26.280453\n",
       "\n",
       "[2200 rows x 7 columns]"
      ]
     },
     "execution_count": 9,
     "metadata": {},
     "output_type": "execute_result"
    }
   ],
   "source": [
    "df"
   ]
  },
  {
   "cell_type": "code",
   "execution_count": 10,
   "id": "04262d81",
   "metadata": {},
   "outputs": [
    {
     "data": {
      "text/plain": [
       "Index(['N', 'K', 'temperature', 'humidity', 'ph', 'rainfall', 'P'], dtype='object')"
      ]
     },
     "execution_count": 10,
     "metadata": {},
     "output_type": "execute_result"
    }
   ],
   "source": [
    "df.columns"
   ]
  },
  {
   "cell_type": "code",
   "execution_count": 11,
   "id": "a8f2621b",
   "metadata": {},
   "outputs": [],
   "source": [
    "X = df[['N', 'temperature', 'humidity', 'ph', 'rainfall', 'P']]\n",
    "Y = df[\"K\"]"
   ]
  },
  {
   "cell_type": "code",
   "execution_count": 12,
   "id": "f4a2475e",
   "metadata": {},
   "outputs": [],
   "source": [
    "from sklearn.model_selection import train_test_split"
   ]
  },
  {
   "cell_type": "code",
   "execution_count": 13,
   "id": "9c26c289",
   "metadata": {},
   "outputs": [],
   "source": [
    "X_train,X_test,Y_train,Y_test = train_test_split(X,Y,test_size=0.20)"
   ]
  },
  {
   "cell_type": "code",
   "execution_count": 14,
   "id": "d3b67e14",
   "metadata": {},
   "outputs": [],
   "source": [
    "from sklearn.preprocessing import StandardScaler\n",
    "scale = StandardScaler()\n",
    "X_train = scale.fit_transform(X_train)\n",
    "X_test = scale.transform(X_test)"
   ]
  },
  {
   "cell_type": "code",
   "execution_count": 15,
   "id": "e74f9bb2",
   "metadata": {},
   "outputs": [
    {
     "name": "stdout",
     "output_type": "stream",
     "text": [
      "R2 value for Random Forest :  97.45984211044876\n",
      "MAE value for Random Forest :  4.131318181818181\n",
      "--------------------------------------------------\n"
     ]
    }
   ],
   "source": [
    "from sklearn.linear_model import LinearRegression,Lasso,Ridge,ElasticNet\n",
    "from sklearn.svm import SVR\n",
    "from sklearn.neighbors import KNeighborsRegressor\n",
    "from sklearn.tree import DecisionTreeRegressor\n",
    "from sklearn.ensemble import RandomForestRegressor,AdaBoostRegressor,GradientBoostingRegressor\n",
    "from xgboost import XGBRegressor\n",
    "from sklearn.metrics import r2_score,mean_absolute_error\n",
    "\n",
    "models = {\n",
    "    \"Random Forest\" : RandomForestRegressor()}\n",
    "\n",
    "for i in range(len(list(models))):\n",
    "    model = list(models.values())[i]\n",
    "    model.fit(X_train,Y_train)\n",
    "    Y_pred = model.predict(X_test)\n",
    "\n",
    "    acc = r2_score(Y_test,Y_pred)\n",
    "    mae = mean_absolute_error(Y_test,Y_pred)\n",
    "    print(f\"R2 value for {list(models.keys())[i]} : \", acc*100)\n",
    "    print(f\"MAE value for {list(models.keys())[i]} : \", mae)\n",
    "    print(\"-\"*50) # Just to make a boundary"
   ]
  },
  {
   "cell_type": "code",
   "execution_count": 16,
   "id": "385376ca",
   "metadata": {},
   "outputs": [
    {
     "name": "stderr",
     "output_type": "stream",
     "text": [
      "c:\\Users\\kunsh\\anaconda3\\Lib\\site-packages\\sklearn\\base.py:493: UserWarning: X does not have valid feature names, but StandardScaler was fitted with feature names\n",
      "  warnings.warn(\n"
     ]
    },
    {
     "data": {
      "text/plain": [
       "array([42.2])"
      ]
     },
     "execution_count": 16,
     "metadata": {},
     "output_type": "execute_result"
    }
   ],
   "source": [
    "Y_pred  = model.predict(scale.transform([[90,20.879744,82.002744,6.502985,202.935536,44.678024]]))\n",
    "Y_pred"
   ]
  },
  {
   "cell_type": "code",
   "execution_count": 17,
   "id": "cfa9a0cd",
   "metadata": {},
   "outputs": [],
   "source": [
    "with open(\"K_pred_model.pkl\",\"wb\") as f:\n",
    "    pickle.dump(model,f)\n",
    "\n",
    "with open(\"K_pred_scaler.pkl\",\"wb\") as f:\n",
    "    pickle.dump(scale,f)"
   ]
  },
  {
   "cell_type": "code",
   "execution_count": null,
   "id": "fa59a899",
   "metadata": {},
   "outputs": [],
   "source": []
  }
 ],
 "metadata": {
  "kernelspec": {
   "display_name": "base",
   "language": "python",
   "name": "python3"
  },
  "language_info": {
   "codemirror_mode": {
    "name": "ipython",
    "version": 3
   },
   "file_extension": ".py",
   "mimetype": "text/x-python",
   "name": "python",
   "nbconvert_exporter": "python",
   "pygments_lexer": "ipython3",
   "version": "3.12.7"
  }
 },
 "nbformat": 4,
 "nbformat_minor": 5
}
