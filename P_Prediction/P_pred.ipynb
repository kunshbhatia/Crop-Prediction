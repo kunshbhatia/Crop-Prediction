{
 "cells": [
  {
   "cell_type": "code",
   "execution_count": null,
   "id": "83bded25",
   "metadata": {},
   "outputs": [],
   "source": [
    "import pandas as pd"
   ]
  },
  {
   "cell_type": "code",
   "execution_count": null,
   "id": "26c00a7d",
   "metadata": {},
   "outputs": [],
   "source": [
    "df = pd.read_csv(\"Crop_recommendation.csv\")"
   ]
  },
  {
   "cell_type": "code",
   "execution_count": null,
   "id": "f6a29a6c",
   "metadata": {},
   "outputs": [],
   "source": [
    "df"
   ]
  },
  {
   "cell_type": "code",
   "execution_count": null,
   "id": "93787c76",
   "metadata": {},
   "outputs": [],
   "source": [
    "df.columns"
   ]
  },
  {
   "cell_type": "code",
   "execution_count": null,
   "id": "5c925739",
   "metadata": {},
   "outputs": [],
   "source": [
    "X = df[['N','temperature', 'humidity', 'ph', 'rainfall']]\n",
    "Y = df['P']"
   ]
  },
  {
   "cell_type": "code",
   "execution_count": null,
   "id": "91ebc874",
   "metadata": {},
   "outputs": [],
   "source": [
    "from sklearn.model_selection import train_test_split\n",
    "X_train,X_test,Y_train,Y_test = train_test_split(X,Y,test_size=0.20)"
   ]
  },
  {
   "cell_type": "code",
   "execution_count": null,
   "id": "e4bae56e",
   "metadata": {},
   "outputs": [],
   "source": [
    "from sklearn.preprocessing import StandardScaler\n",
    "scaler = StandardScaler()\n",
    "X_train = scaler.fit_transform(X_train)\n",
    "X_test = scaler.transform(X_test)"
   ]
  },
  {
   "cell_type": "code",
   "execution_count": null,
   "id": "922f869a",
   "metadata": {},
   "outputs": [],
   "source": [
    "from sklearn.linear_model import LinearRegression,Lasso,Ridge,ElasticNet\n",
    "from sklearn.svm import SVR\n",
    "from sklearn.neighbors import KNeighborsRegressor\n",
    "from sklearn.tree import DecisionTreeRegressor\n",
    "from sklearn.ensemble import RandomForestRegressor,AdaBoostRegressor,GradientBoostingRegressor\n",
    "from xgboost import XGBRegressor\n",
    "from sklearn.metrics import r2_score,mean_absolute_error\n",
    "\n",
    "models = {\n",
    "    \"Linear Regression\" : LinearRegression(),\n",
    "    \"Lasso\" : Lasso(),\n",
    "    \"Ridge\" : Ridge(),\n",
    "    \"ElasticNet\" : ElasticNet(),\n",
    "    \"SVR\" : SVR(),\n",
    "    \"K Nearest\" : KNeighborsRegressor(),\n",
    "    \"Decision Tree\" : DecisionTreeRegressor(),\n",
    "    \"Ada Boost\" : AdaBoostRegressor(),\n",
    "    \"Random Forest\" : RandomForestRegressor(),\n",
    "    \"Gradient\" : GradientBoostingRegressor(),\n",
    "    \"XGB\" : XGBRegressor()\n",
    "}\n",
    "\n",
    "for i in range(len(list(models))):\n",
    "    model = list(models.values())[i]\n",
    "    model.fit(X_train,Y_train)\n",
    "    Y_pred = model.predict(X_test)\n",
    "\n",
    "    acc = r2_score(Y_test,Y_pred)\n",
    "    mae = mean_absolute_error(Y_test,Y_pred)\n",
    "    print(f\"R2 value for {list(models.keys())[i]} : \", acc*100)\n",
    "    print(f\"MAE value for {list(models.keys())[i]} : \", mae)\n",
    "    print(\"-\"*50) # Just to make a boundary"
   ]
  },
  {
   "cell_type": "code",
   "execution_count": null,
   "id": "f171da35",
   "metadata": {},
   "outputs": [],
   "source": [
    "from sklearn.model_selection import RandomizedSearchCV\n",
    "\n",
    "K_params = {\n",
    "    'n_neighbors': [3, 5, 7, 9],\n",
    "    'weights': ['uniform', 'distance'],\n",
    "    'algorithm': ['auto', 'ball_tree', 'kd_tree', 'brute'],\n",
    "    'p': [1, 2]  # 1 = Manhattan, 2 = Euclidean\n",
    "}\n",
    "\n",
    "random_params = {\n",
    "    'n_estimators': [100, 200, 300],\n",
    "    'max_depth': [None, 10, 20, 30],\n",
    "    'min_samples_split': [2, 5, 10],\n",
    "    'min_samples_leaf': [1, 2, 4],\n",
    "    'bootstrap': [True, False]\n",
    "}\n",
    "\n",
    "XGB_params = {\n",
    "    'n_estimators': [100, 200, 300],\n",
    "    'learning_rate': [0.01, 0.1, 0.2],\n",
    "    'max_depth': [3, 5, 7],\n",
    "    'subsample': [0.7, 0.8, 1.0],\n",
    "    'colsample_bytree': [0.7, 0.8, 1.0],\n",
    "    'gamma': [0, 1, 5]\n",
    "}\n",
    "\n",
    "processing = [\n",
    "        (\"K\",KNeighborsRegressor(),K_params),\n",
    "        (\"Random\",RandomForestRegressor(),random_params),\n",
    "        (\"XGB\",XGBRegressor(),XGB_params)\n",
    "    ]\n",
    "\n",
    "for name,model,param in processing:\n",
    "    random = RandomizedSearchCV(estimator=model,\n",
    "                                param_distributions=param,\n",
    "                                n_jobs=-1,\n",
    "                                verbose=3,\n",
    "                                cv=5)\n",
    "    random.fit(X_train,Y_train)\n",
    "    Y_pred = random.predict(X_test)\n",
    "\n",
    "    print(f\"Best Paramater for {name} : \" , random.best_params_)"
   ]
  },
  {
   "cell_type": "code",
   "execution_count": null,
   "id": "c5dfef41",
   "metadata": {},
   "outputs": [],
   "source": [
    "from sklearn.ensemble import RandomForestRegressor\n",
    "from sklearn.metrics import r2_score,mean_absolute_error\n",
    "\n",
    "models = {\n",
    "    \"Random Forest\" : RandomForestRegressor(n_estimators= 300, min_samples_split= 2, min_samples_leaf= 2, max_depth= 10, bootstrap= True),\n",
    "}\n",
    "\n",
    "for i in range(len(list(models))):\n",
    "    model = list(models.values())[i]\n",
    "    model.fit(X_train,Y_train)\n",
    "    Y_pred = model.predict(X_test)\n",
    "\n",
    "    acc = r2_score(Y_test,Y_pred)\n",
    "    mae = mean_absolute_error(Y_test,Y_pred)\n",
    "    print(f\"R2 value for {list(models.keys())[i]} : \", acc*100)\n",
    "    print(f\"MAE value for {list(models.keys())[i]} : \", mae)\n",
    "    print(\"-\"*50) # Just to make a boundary"
   ]
  },
  {
   "cell_type": "code",
   "execution_count": null,
   "id": "86cab844",
   "metadata": {},
   "outputs": [],
   "source": [
    "Y_pred = model.predict(scaler.transform([[66,31.87,70.78,7.7,12.07]]))"
   ]
  },
  {
   "cell_type": "code",
   "execution_count": null,
   "id": "5b88238b",
   "metadata": {},
   "outputs": [],
   "source": [
    "Y_pred"
   ]
  },
  {
   "cell_type": "code",
   "execution_count": null,
   "id": "a8ded82a",
   "metadata": {},
   "outputs": [],
   "source": [
    "import pickle"
   ]
  },
  {
   "cell_type": "code",
   "execution_count": null,
   "id": "e7044b79",
   "metadata": {},
   "outputs": [],
   "source": [
    "with open(\"P_pred_model.pkl\",\"wb\") as f:\n",
    "    pickle.dump(model,f)\n",
    "\n",
    "with open(\"P_pred_scaler.pkl\",\"wb\") as f:\n",
    "    pickle.dump(scaler,f)"
   ]
  },
  {
   "cell_type": "code",
   "execution_count": null,
   "id": "35062e8f",
   "metadata": {},
   "outputs": [],
   "source": []
  }
 ],
 "metadata": {
  "kernelspec": {
   "display_name": "base",
   "language": "python",
   "name": "python3"
  },
  "language_info": {
   "codemirror_mode": {
    "name": "ipython",
    "version": 3
   },
   "file_extension": ".py",
   "mimetype": "text/x-python",
   "name": "python",
   "nbconvert_exporter": "python",
   "pygments_lexer": "ipython3",
   "version": "3.12.7"
  }
 },
 "nbformat": 4,
 "nbformat_minor": 5
}
